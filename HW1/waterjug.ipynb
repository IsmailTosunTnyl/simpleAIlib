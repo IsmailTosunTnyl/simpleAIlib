{
 "cells": [
  {
   "cell_type": "code",
   "execution_count": 6,
   "metadata": {},
   "outputs": [],
   "source": [
    "from simpleai.search import SearchProblem,astar,breadth_first,depth_first,uniform_cost\n",
    "from simpleai.search.viewers import WebViewer,ConsoleViewer,BaseViewer\n",
    "class WaterJug(SearchProblem):\n",
    "    def __init__(self, initial_state, goal_state,capacity):\n",
    "        self.initial_state = initial_state\n",
    "        self.goal_state = goal_state\n",
    "        self.capacity = capacity\n",
    "\n",
    "    def actions(self, state):\n",
    "        actions = []\n",
    "        #fill\n",
    "        if state[0] < self.capacity[0]:\n",
    "            actions.append('fill 1')\n",
    "        if state[1] < self.capacity[1]:\n",
    "            actions.append('fill 2')\n",
    "        if state[2] < self.capacity[2]:\n",
    "            actions.append('fill 3')\n",
    "        #empty\n",
    "        if state[0] > 0:\n",
    "            actions.append('empty 1')\n",
    "        if state[1] > 0:\n",
    "            actions.append('empty 2')\n",
    "        if state[2] > 0:\n",
    "            actions.append('empty 3')\n",
    "        #pour\n",
    "        if state[0] > 0 and state[1] < self.capacity[1]:\n",
    "            actions.append('pour 1 2')\n",
    "        if state[0] > 0 and state[2] < self.capacity[2]:\n",
    "            actions.append('pour 1 3')\n",
    "        if state[1] > 0 and state[0] < self.capacity[0]:\n",
    "            actions.append('pour 2 1')\n",
    "        if state[1] > 0 and state[2] < self.capacity[2]:\n",
    "            actions.append('pour 2 3')\n",
    "        if state[2] > 0 and state[0] < self.capacity[0]:\n",
    "            actions.append('pour 3 1')\n",
    "        if state[2] > 0 and state[1] < self.capacity[1]:\n",
    "            actions.append('pour 3 2')\n",
    "        return actions\n",
    "\n",
    "\n",
    "    def result(self, state, action):\n",
    "        state = list(state)\n",
    "        action_key = action.split(' ')\n",
    "        if action_key[0] == 'fill':\n",
    "            state[int(action_key[1])-1] = self.capacity[int(action_key[1])-1]\n",
    "        elif action_key[0] == 'empty':\n",
    "            state[int(action_key[1])-1] = 0\n",
    "        elif action_key[0] == 'pour':\n",
    "            amount = min(state[int(action_key[1])-1],self.capacity[int(action_key[2])-1]-state[int(action_key[2])-1])\n",
    "            state[int(action_key[1])-1] -= amount\n",
    "            state[int(action_key[2])-1] += amount\n",
    "        return tuple(state)\n",
    "\n",
    "    def is_goal(self, state):\n",
    "        return state == self.goal_state\n",
    "\n",
    "\n",
    "    def cost(self, state, action, state2):\n",
    "        return 1"
   ]
  },
  {
   "cell_type": "code",
   "execution_count": 7,
   "metadata": {},
   "outputs": [
    {
     "name": "stdout",
     "output_type": "stream",
     "text": [
      "Node <(4, 4, 0)>\n",
      "{'max_fringe_size': 29, 'visited_nodes': 114, 'iterations': 114}\n"
     ]
    }
   ],
   "source": [
    "if __name__ == '__main__':\n",
    "    my_viewer = BaseViewer()\n",
    "\n",
    "    initial_state = (0, 0, 0)\n",
    "    goal_state = (4, 4, 0)\n",
    "    capacity = (8, 5, 3)\n",
    "\n",
    "    problem = WaterJug(initial_state, goal_state,capacity)\n",
    "    result = breadth_first(problem, graph_search=True, viewer=my_viewer)\n",
    "    print(result)\n",
    "    print(my_viewer.stats)\n",
    "    \n"
   ]
  }
 ],
 "metadata": {
  "kernelspec": {
   "display_name": "Python 3.10.8 64-bit",
   "language": "python",
   "name": "python3"
  },
  "language_info": {
   "codemirror_mode": {
    "name": "ipython",
    "version": 3
   },
   "file_extension": ".py",
   "mimetype": "text/x-python",
   "name": "python",
   "nbconvert_exporter": "python",
   "pygments_lexer": "ipython3",
   "version": "3.10.8"
  },
  "orig_nbformat": 4,
  "vscode": {
   "interpreter": {
    "hash": "949777d72b0d2535278d3dc13498b2535136f6dfe0678499012e853ee9abcab1"
   }
  }
 },
 "nbformat": 4,
 "nbformat_minor": 2
}

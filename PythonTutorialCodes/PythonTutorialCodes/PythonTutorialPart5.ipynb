{
 "cells": [
  {
   "cell_type": "markdown",
   "id": "4103264e-668f-4df8-8ed0-d9739a5a678c",
   "metadata": {},
   "source": [
    "# Python Tutorial\n",
    "## Part5 - Object Oriented Programming\n",
    "### 1 - Basics\n",
    "- Class definition\n",
    "- Class instantiation\n",
    "- Class vs. instance attributes"
   ]
  },
  {
   "cell_type": "code",
   "execution_count": null,
   "id": "7801e190-7e8c-4ada-8e57-8fb2a27c702f",
   "metadata": {},
   "outputs": [],
   "source": [
    "# class definition\n",
    "class Car:\n",
    "    type = \"x\" #class attribute (static)\n",
    "    \n",
    "    def __init__(self, color, miles): #constructor\n",
    "        self.color = color #instance attributes\n",
    "        self.miles = miles\n",
    "        \n",
    "    def __str__(self): # like toString method in Java\n",
    "        return f\"{self.color} car has {self.miles} miles\"\n",
    "    \n",
    "    def go(self): #instance method\n",
    "        print(f\"{self.color} car is going\")\n",
    "        \n",
    "    def stop(self): #another instance method\n",
    "        print(f\"{self.color} car is stopped\")"
   ]
  },
  {
   "cell_type": "code",
   "execution_count": null,
   "id": "8d0647ac-bab5-4b30-8403-13928c2aa40f",
   "metadata": {},
   "outputs": [],
   "source": [
    "# creating instances\n",
    "car1 = Car(\"blue\", 10000)\n",
    "car2 = Car(\"red\", 30000)"
   ]
  },
  {
   "cell_type": "code",
   "execution_count": null,
   "id": "19f23067-2a00-46ed-a016-68e37a986d1e",
   "metadata": {},
   "outputs": [],
   "source": [
    "print(type(car1))"
   ]
  },
  {
   "cell_type": "code",
   "execution_count": null,
   "id": "8e664a54-dc61-42ff-83f2-b5bc23f7def7",
   "metadata": {},
   "outputs": [],
   "source": [
    "car1 # direct printing prints the memory location"
   ]
  },
  {
   "cell_type": "code",
   "execution_count": null,
   "id": "9d2e3f54-aa7d-4508-b250-4f16306cb028",
   "metadata": {},
   "outputs": [],
   "source": [
    "print(car1) # printing by print function calls __str__ method\n",
    "print(car2)"
   ]
  },
  {
   "cell_type": "code",
   "execution_count": null,
   "id": "df249b17-d015-4a62-9273-245502a1ff6a",
   "metadata": {},
   "outputs": [],
   "source": [
    "# calling instance methods\n",
    "car1.go()\n",
    "car2.stop()"
   ]
  },
  {
   "cell_type": "code",
   "execution_count": null,
   "id": "bb2bd41b-7bc9-4e97-a0f6-57ef8e80e2a2",
   "metadata": {},
   "outputs": [],
   "source": [
    "# Class vs. instance attributes\n",
    "print(Car.type)\n",
    "print(car1.type)\n",
    "print(car2.type)"
   ]
  },
  {
   "cell_type": "code",
   "execution_count": null,
   "id": "add8aaaf-e0f0-42d4-9b9a-48749e972030",
   "metadata": {},
   "outputs": [],
   "source": [
    "Car.type = 'y'\n",
    "\n",
    "print(Car.type)\n",
    "print(car1.type)\n",
    "print(car2.type)"
   ]
  },
  {
   "cell_type": "code",
   "execution_count": null,
   "id": "2932731e-ec2e-4a05-b38e-2ee2a32d1897",
   "metadata": {},
   "outputs": [],
   "source": [
    "car1.type = 'z'\n",
    "\n",
    "print(Car.type)\n",
    "print(car1.type)\n",
    "print(car2.type)"
   ]
  },
  {
   "cell_type": "code",
   "execution_count": null,
   "id": "af7d273d-a182-4f7e-99d4-91a72d58d2fa",
   "metadata": {},
   "outputs": [],
   "source": [
    "# Class vs. instance attributes: Anther example\n",
    "class Test:\n",
    "    totalCount = 0 # class attribute\n",
    "    def __init__(self, name, count):\n",
    "        self.name = name # instance attribute\n",
    "        self.count = count # instance attribute\n",
    "        Test.totalCount += 1\n",
    "        \n",
    "    def __str__(self):\n",
    "        return f\"{self.name} has count {self.count}, total count: {Test.totalCount}\""
   ]
  },
  {
   "cell_type": "code",
   "execution_count": null,
   "id": "ef9beea6-8d0d-4f0a-a169-873bb3c2ac98",
   "metadata": {},
   "outputs": [],
   "source": [
    "test1 = Test(\"test1\",1)\n",
    "print(test1)\n",
    "\n",
    "test2 = Test(\"test2\",2)\n",
    "print(test2)\n",
    "\n",
    "print(test1)\n",
    "print(test2)"
   ]
  },
  {
   "cell_type": "code",
   "execution_count": null,
   "id": "f2b18e8b-3b12-4ee0-98fd-e6afd72cdee8",
   "metadata": {},
   "outputs": [],
   "source": [
    "Test.totalCount = 3\n",
    "print(test1)\n",
    "print(test2)"
   ]
  },
  {
   "cell_type": "markdown",
   "id": "2637de34-f91a-49d0-8eac-7a1bf2947a57",
   "metadata": {},
   "source": [
    "### 2 - Static (class) methods"
   ]
  },
  {
   "cell_type": "code",
   "execution_count": null,
   "id": "608f5ac4-d35e-4f3e-b809-1079f8874660",
   "metadata": {},
   "outputs": [],
   "source": [
    "class Calculator:\n",
    "    @staticmethod\n",
    "    def add(a,b):\n",
    "        return a+b"
   ]
  },
  {
   "cell_type": "code",
   "execution_count": null,
   "id": "41f93792-b407-4f7f-8264-68bb1d4d6605",
   "metadata": {},
   "outputs": [],
   "source": [
    "# Static methods belong to the class and shared by all instances\n",
    "# You can call static methods through the class name\n",
    "print(Calculator.add(10,7)) \n",
    "\n",
    "# It is also possible to call it using the instance name\n",
    "calc1 = Calculator()\n",
    "print(calc1.add(3,7))"
   ]
  },
  {
   "cell_type": "markdown",
   "id": "ee3d7f29-0953-4b06-b7be-fd4d91e30ad0",
   "metadata": {},
   "source": [
    "### 3 - Inheritance"
   ]
  },
  {
   "cell_type": "code",
   "execution_count": null,
   "id": "bf270181-6bbd-4eba-bed9-9a37562d2d2c",
   "metadata": {},
   "outputs": [],
   "source": [
    "class Animal:\n",
    "    def __init__(self, name):\n",
    "        self.name = name\n",
    "        \n",
    "    def __str__(self):\n",
    "        return f\"name of the animal is {self.name}\"\n",
    "    \n",
    "    def isCapableOf(self, capability):\n",
    "        print(f\"{self.name} can {capability}\")"
   ]
  },
  {
   "cell_type": "code",
   "execution_count": null,
   "id": "ff92c2bf-a59a-4ed5-9208-4162e8d39ecf",
   "metadata": {},
   "outputs": [],
   "source": [
    "class Horse(Animal):\n",
    "    def isCapableOf(self, capability=\"run\"):\n",
    "        super().isCapableOf(capability)"
   ]
  },
  {
   "cell_type": "code",
   "execution_count": null,
   "id": "d03fa8be-d5f5-4586-a386-64cff843d961",
   "metadata": {},
   "outputs": [],
   "source": [
    "class Bird(Animal):\n",
    "    def isCapableOf(self, capability=\"fly\"):\n",
    "        super().isCapableOf(capability)"
   ]
  },
  {
   "cell_type": "code",
   "execution_count": null,
   "id": "f9cb34d5-9fb9-4b49-95f2-f7e39aa27d41",
   "metadata": {},
   "outputs": [],
   "source": [
    "class Whale(Animal):\n",
    "    def isCapableOf(self, capability=\"swim\"):\n",
    "        super().isCapableOf(capability)"
   ]
  },
  {
   "cell_type": "code",
   "execution_count": null,
   "id": "4456b622-7526-45b8-9261-00f725f3678c",
   "metadata": {},
   "outputs": [],
   "source": [
    "animal1 = Animal(\"animal1\")\n",
    "print(type(animal1))\n",
    "print(animal1)\n",
    "animal1.isCapableOf(\"eat\")"
   ]
  },
  {
   "cell_type": "code",
   "execution_count": null,
   "id": "f4b638c9-c900-43cf-92ed-466e9b886d36",
   "metadata": {},
   "outputs": [],
   "source": [
    "horse1 = Horse(\"horse1\")\n",
    "\n",
    "print(type(horse1))\n",
    "print(isinstance(horse1, Animal))\n",
    "print(horse1)\n",
    "horse1.isCapableOf()"
   ]
  },
  {
   "cell_type": "code",
   "execution_count": null,
   "id": "d9783e9d-c7e5-4191-8096-86fce4946bc6",
   "metadata": {},
   "outputs": [],
   "source": [
    "bird1 = Bird(\"bird1\")\n",
    "\n",
    "print(type(bird1))\n",
    "print(isinstance(bird1, Animal))\n",
    "print(bird1)\n",
    "bird1.isCapableOf()"
   ]
  },
  {
   "cell_type": "code",
   "execution_count": null,
   "id": "1931b150-3e6e-4f60-9e39-f25fb77e22d3",
   "metadata": {},
   "outputs": [],
   "source": [
    "whale1 = Whale(\"whale1\")\n",
    "\n",
    "print(type(whale1))\n",
    "print(isinstance(whale1, Animal))\n",
    "print(whale1)\n",
    "whale1.isCapableOf()"
   ]
  }
 ],
 "metadata": {
  "kernelspec": {
   "display_name": "Python 3.8.8 ('base')",
   "language": "python",
   "name": "python3"
  },
  "language_info": {
   "codemirror_mode": {
    "name": "ipython",
    "version": 3
   },
   "file_extension": ".py",
   "mimetype": "text/x-python",
   "name": "python",
   "nbconvert_exporter": "python",
   "pygments_lexer": "ipython3",
   "version": "3.8.8"
  },
  "vscode": {
   "interpreter": {
    "hash": "9342e9946529482ef0474bf998748d39975ef9df5d204faa84d495ff7e4d0295"
   }
  }
 },
 "nbformat": 4,
 "nbformat_minor": 5
}

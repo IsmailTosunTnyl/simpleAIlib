{
 "cells": [
  {
   "cell_type": "markdown",
   "id": "e5203480-b9d7-497c-ba3f-b43f241b2cae",
   "metadata": {},
   "source": [
    "# Python Tutorial\n",
    "## Part1: Data Types and Variables"
   ]
  },
  {
   "cell_type": "code",
   "execution_count": null,
   "id": "51e0aa29-c116-4968-afa3-574ded9f2e97",
   "metadata": {},
   "outputs": [],
   "source": [
    "# Arithmetic operations\n",
    "print(5 + 3)\n",
    "print(10 ** 2)\n",
    "print(10 % 3)"
   ]
  },
  {
   "cell_type": "code",
   "execution_count": null,
   "id": "bbb409c9-5244-4a6a-a088-05ddb7ed74e5",
   "metadata": {},
   "outputs": [],
   "source": [
    "# Variable declarations and type checking\n",
    "var1 = 10\n",
    "var2 = 3.5\n",
    "var3 = 'text'\n",
    "var4 = False\n",
    "\n",
    "print(type(var1))\n",
    "print(type(var2))\n",
    "print(type(var3))\n",
    "print(type(var4))"
   ]
  },
  {
   "cell_type": "code",
   "execution_count": null,
   "id": "562f845a-bf1f-4498-9be1-550981b27a3d",
   "metadata": {},
   "outputs": [],
   "source": [
    "# Dynamic typing\n",
    "var4 = 2\n",
    "print(type(var4))"
   ]
  },
  {
   "cell_type": "code",
   "execution_count": null,
   "id": "fe47bd4c-f32a-4b22-b77d-f413b57eebd3",
   "metadata": {},
   "outputs": [],
   "source": [
    "# Type conversion\n",
    "print(int('123'))\n",
    "print(str(12))\n",
    "print(int('abc'))"
   ]
  },
  {
   "cell_type": "code",
   "execution_count": null,
   "id": "158b2a62-4694-42dd-8896-24d1e7333f99",
   "metadata": {},
   "outputs": [],
   "source": [
    "# List of methods applicable on a specific data type\n",
    "dir(int)"
   ]
  },
  {
   "cell_type": "code",
   "execution_count": null,
   "id": "ba59f89d-72b5-4a29-a05e-fb55bf18bb1e",
   "metadata": {},
   "outputs": [],
   "source": [
    "dir(var2)"
   ]
  },
  {
   "cell_type": "markdown",
   "id": "f84d90ce-9528-4ec0-a7d4-13e1b1d3edd4",
   "metadata": {},
   "source": [
    "## Part2: Strings"
   ]
  },
  {
   "cell_type": "code",
   "execution_count": null,
   "id": "851c9bc4-c995-46b5-8b98-6ea95fd84e97",
   "metadata": {},
   "outputs": [],
   "source": [
    "str1 = 'text1'\n",
    "str2 = \"text2\"\n",
    "\n",
    "print(type(str1))\n",
    "print(type(str2))"
   ]
  },
  {
   "cell_type": "code",
   "execution_count": null,
   "id": "93f99542-c8a7-4e77-b1de-86c38748daea",
   "metadata": {},
   "outputs": [],
   "source": [
    "# String concatanation\n",
    "print('a''b')\n",
    "print(str1 + str2)\n",
    "print(str1*3)"
   ]
  },
  {
   "cell_type": "code",
   "execution_count": null,
   "id": "63b4bc78-f70c-4a41-a7e1-6a74be1702fe",
   "metadata": {},
   "outputs": [],
   "source": [
    "# Substrings\n",
    "print(len(str1))\n",
    "print(str1[0])\n",
    "print(str1[-1])\n",
    "print(str1[1:3])"
   ]
  },
  {
   "cell_type": "code",
   "execution_count": null,
   "id": "7046f38e-4327-469c-87ef-f1abe023d821",
   "metadata": {},
   "outputs": [],
   "source": [
    "# Methods of string\n",
    "# You can see the list of all string methods using dir(str)\n",
    "print(str1.upper())\n",
    "print(str1)\n",
    "print(str1.capitalize())\n",
    "print(str1.replace('1','12'))\n",
    "print(str2.index('t'))\n",
    "print(str2.count('t'))"
   ]
  },
  {
   "cell_type": "code",
   "execution_count": null,
   "id": "d5178b9d-d918-4b91-bbc2-5df77bd2a409",
   "metadata": {},
   "outputs": [],
   "source": [
    "str[1] = 'w' # assignment is not allowed"
   ]
  },
  {
   "cell_type": "markdown",
   "id": "2040a415-7c32-4877-a885-799305c1d53e",
   "metadata": {},
   "source": [
    "## Part3: Control Statements"
   ]
  },
  {
   "cell_type": "code",
   "execution_count": null,
   "id": "86886dd4-f50f-419e-b2a4-3618f854307f",
   "metadata": {},
   "outputs": [],
   "source": [
    "# Conditional statements\n",
    "value = int(input())\n",
    "limit = 3000\n",
    "\n",
    "if value < limit:\n",
    "    print('low')\n",
    "elif value == limit:\n",
    "    print('equal')\n",
    "else:\n",
    "    print('high')"
   ]
  },
  {
   "cell_type": "code",
   "execution_count": null,
   "id": "2f5c750e-9b46-4e3c-a9e6-730c924d32dd",
   "metadata": {},
   "outputs": [],
   "source": [
    "# for loops\n",
    "for i in range(10):\n",
    "    print(i)"
   ]
  },
  {
   "cell_type": "code",
   "execution_count": null,
   "id": "c34b600c-3400-418e-9923-36ceea181a3a",
   "metadata": {},
   "outputs": [],
   "source": [
    "# for loops (iterate over list)\n",
    "myList = [1,5,12,'sdfsd']\n",
    "for i in myList:\n",
    "    print(i)"
   ]
  },
  {
   "cell_type": "code",
   "execution_count": null,
   "id": "9e5c3189-7827-4206-8f0e-e5d4ec9fa6b0",
   "metadata": {},
   "outputs": [],
   "source": [
    "# while loops\n",
    "i = 1\n",
    "while i < 10:\n",
    "    print(i)\n",
    "    i += 1"
   ]
  },
  {
   "cell_type": "code",
   "execution_count": null,
   "id": "9ea89bec-c60d-4a9f-9176-02558b2d1d70",
   "metadata": {},
   "outputs": [],
   "source": [
    "# function definitions\n",
    "def myFunc(a):\n",
    "    return a**3\n",
    "\n",
    "print(myFunc(3)) # function call"
   ]
  }
 ],
 "metadata": {
  "kernelspec": {
   "display_name": "Python 3",
   "language": "python",
   "name": "python3"
  },
  "language_info": {
   "codemirror_mode": {
    "name": "ipython",
    "version": 3
   },
   "file_extension": ".py",
   "mimetype": "text/x-python",
   "name": "python",
   "nbconvert_exporter": "python",
   "pygments_lexer": "ipython3",
   "version": "3.8.8"
  }
 },
 "nbformat": 4,
 "nbformat_minor": 5
}

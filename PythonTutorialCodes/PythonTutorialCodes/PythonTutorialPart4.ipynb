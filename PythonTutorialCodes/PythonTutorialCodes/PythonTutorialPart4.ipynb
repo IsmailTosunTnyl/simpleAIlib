{
 "cells": [
  {
   "cell_type": "markdown",
   "id": "2b72ec11-faa9-4904-9e03-61f9b7525dcd",
   "metadata": {},
   "source": [
    "# Python Tutorial\n",
    "## Part4: Compound Statements\n",
    "## 1 - Lists\n",
    "\n",
    "Lists are\n",
    "- Inclusive\n",
    "- Mutable\n",
    "- Ordered"
   ]
  },
  {
   "cell_type": "code",
   "execution_count": null,
   "id": "4de55b3d-b4b1-4a50-8a59-27eb0ff9898d",
   "metadata": {},
   "outputs": [],
   "source": [
    "my_list = [1, 'Hello', \"World\", True, [2, 'Learn', \"Python\", False]]\n",
    "\n",
    "print(type(my_list))\n",
    "print(my_list)\n",
    "print('length: ', len(my_list))"
   ]
  },
  {
   "cell_type": "code",
   "execution_count": null,
   "id": "dd979b1f-3717-4728-8377-cb491273bb43",
   "metadata": {},
   "outputs": [],
   "source": [
    "# indexing\n",
    "print(my_list[0])\n",
    "print(my_list[-1])\n",
    "print(my_list[4][2])"
   ]
  },
  {
   "cell_type": "code",
   "execution_count": null,
   "id": "dec20459-0a50-4a0a-bbff-4bc37ad4dee5",
   "metadata": {},
   "outputs": [],
   "source": [
    "my_list[1] = 34 # lists are mutable\n",
    "print(my_list)"
   ]
  },
  {
   "cell_type": "code",
   "execution_count": null,
   "id": "73a36f49-eae0-4907-9b3a-a14c2bc75151",
   "metadata": {},
   "outputs": [],
   "source": [
    "my_list.append(1)\n",
    "print(my_list)"
   ]
  },
  {
   "cell_type": "code",
   "execution_count": null,
   "id": "02e3602e-60c9-4cb3-9035-518b1a8fcf67",
   "metadata": {},
   "outputs": [],
   "source": [
    "my_list.remove('World')\n",
    "my_list"
   ]
  },
  {
   "cell_type": "code",
   "execution_count": null,
   "id": "d1d18e6a-47df-47b8-80df-18262e10b1d0",
   "metadata": {},
   "outputs": [],
   "source": [
    "my_list.insert(2,'abc')\n",
    "my_list"
   ]
  },
  {
   "cell_type": "code",
   "execution_count": null,
   "id": "89e4db5c-d68b-4cec-b83e-fbadc245b91b",
   "metadata": {},
   "outputs": [],
   "source": [
    "x = my_list.pop()\n",
    "print(x)\n",
    "print(my_list)"
   ]
  },
  {
   "cell_type": "code",
   "execution_count": null,
   "id": "76da6f5c-6d3f-4d38-9dde-34e999fb58ce",
   "metadata": {},
   "outputs": [],
   "source": [
    "del my_list[3]\n",
    "my_list"
   ]
  },
  {
   "cell_type": "code",
   "execution_count": null,
   "id": "27db0a3d-0f07-4f36-936c-8c739dbe532e",
   "metadata": {},
   "outputs": [],
   "source": [
    "my_list.reverse()\n",
    "my_list"
   ]
  },
  {
   "cell_type": "code",
   "execution_count": null,
   "id": "abc9a27f-96f2-4a65-b206-dec9096e3690",
   "metadata": {},
   "outputs": [],
   "source": [
    "my_list.sort() # sort is not supported for mix types\n",
    "my_list"
   ]
  },
  {
   "cell_type": "code",
   "execution_count": null,
   "id": "0f786c41-742b-4840-85d6-8b4b8849110d",
   "metadata": {},
   "outputs": [],
   "source": [
    "my_list = [5,1,12,4,6]\n",
    "my_list.sort()\n",
    "my_list"
   ]
  },
  {
   "cell_type": "markdown",
   "id": "8d14e93a-f3a5-4d16-878a-a638310af9b8",
   "metadata": {},
   "source": [
    "## 2 - Tuples\n",
    "Tuples are\n",
    "- Inclusive\n",
    "- Immutable\n",
    "- Ordered"
   ]
  },
  {
   "cell_type": "code",
   "execution_count": null,
   "id": "f2bc9893-0e47-490e-852d-6530a31ea040",
   "metadata": {
    "tags": []
   },
   "outputs": [],
   "source": [
    "my_tuple = (1, 2, 'String', (3, 4, \"String 2\"), [1, 2, 3])\n",
    "\n",
    "print(type(my_tuple))\n",
    "print(my_tuple)\n",
    "print('length: ', len(my_tuple))"
   ]
  },
  {
   "cell_type": "code",
   "execution_count": null,
   "id": "743644e1-e75b-4ab8-a5b7-a3dc3fff0c8b",
   "metadata": {},
   "outputs": [],
   "source": [
    "# indexing\n",
    "print(my_tuple[0])\n",
    "print(my_tuple[-1])\n",
    "print(my_tuple[4][2])"
   ]
  },
  {
   "cell_type": "code",
   "execution_count": null,
   "id": "5545f456-363d-44eb-9062-90e70958eb71",
   "metadata": {},
   "outputs": [],
   "source": [
    "my_tuple[1] = 34 # tuples are immutable\n",
    "print(my_tuple)"
   ]
  },
  {
   "cell_type": "code",
   "execution_count": null,
   "id": "1be15bec-f968-47ce-876a-0093f14a7914",
   "metadata": {},
   "outputs": [],
   "source": [
    "del my_tuple[2] # tuples are immutable"
   ]
  },
  {
   "cell_type": "code",
   "execution_count": null,
   "id": "9cfad593-ca23-449e-9c6e-5d4dfa32cb21",
   "metadata": {},
   "outputs": [],
   "source": [
    "my_tuple.count(2)"
   ]
  },
  {
   "cell_type": "code",
   "execution_count": null,
   "id": "0067dd73-8dd6-404d-8f65-b352d4bb0728",
   "metadata": {},
   "outputs": [],
   "source": [
    "my_tuple.index('String')"
   ]
  },
  {
   "cell_type": "markdown",
   "id": "05a7b39e-037c-499e-979a-1b8f2f3c1338",
   "metadata": {},
   "source": [
    "## 3 - Dictionary\n",
    "Dictionaries are\n",
    "- Inclusive\n",
    "- Mutable\n",
    "- Unordered"
   ]
  },
  {
   "cell_type": "code",
   "execution_count": null,
   "id": "70cd281e-b70a-48f7-aec4-6d3116193925",
   "metadata": {},
   "outputs": [],
   "source": [
    "my_dict = {'key1': 'value1', 'key2': 'value2', 'key3': 'value3'}\n",
    "\n",
    "print(type(my_dict))\n",
    "print(my_dict)\n",
    "print('length: ', len(my_dict))"
   ]
  },
  {
   "cell_type": "code",
   "execution_count": null,
   "id": "bf8c8edf-4329-41a7-9c74-acc483b6905e",
   "metadata": {},
   "outputs": [],
   "source": [
    "print(my_dict.keys())\n",
    "print(my_dict.values())\n",
    "print(my_dict.items())"
   ]
  },
  {
   "cell_type": "code",
   "execution_count": null,
   "id": "43921de3-d85c-4651-9fab-1dbc9807a184",
   "metadata": {},
   "outputs": [],
   "source": [
    "print(my_dict['key1'])"
   ]
  },
  {
   "cell_type": "code",
   "execution_count": null,
   "id": "39a14576-2d2c-400f-af3a-35bc256ef7f2",
   "metadata": {},
   "outputs": [],
   "source": [
    "my_dict['key1'] = 3 # mutable\n",
    "my_dict"
   ]
  },
  {
   "cell_type": "code",
   "execution_count": null,
   "id": "88980129-c9a5-4791-b5f7-61bc5a006383",
   "metadata": {},
   "outputs": [],
   "source": [
    "my_dict['key5'] = 123 # insertion\n",
    "my_dict"
   ]
  },
  {
   "cell_type": "code",
   "execution_count": null,
   "id": "69374b19-a22a-4120-a06b-cf0c9fbd4022",
   "metadata": {},
   "outputs": [],
   "source": [
    "del my_dict['key2'] # deletion\n",
    "my_dict"
   ]
  },
  {
   "cell_type": "code",
   "execution_count": null,
   "id": "744a1187-8459-4d80-8fb3-3a57fc4f1b80",
   "metadata": {},
   "outputs": [],
   "source": [
    "# iterating over dictionary items\n",
    "phonebook = {\"John\" : 938477566,\"Jack\" : 938377264,\"Jill\" : 947662781}\n",
    "for name, number in phonebook.items():    \n",
    "\tprint(f\"{name} - {number}\") # format string "
   ]
  },
  {
   "cell_type": "markdown",
   "id": "39d045f0-1d88-4af8-8454-cf8307e39f82",
   "metadata": {},
   "source": [
    "## 4 - Set\n",
    "Sets are\n",
    "- Inclusive\n",
    "- Mutable\n",
    "- Unordered\n",
    "- Unique elements"
   ]
  },
  {
   "cell_type": "code",
   "execution_count": null,
   "id": "45bb2d70-2bea-4791-8798-93845dd4f016",
   "metadata": {},
   "outputs": [],
   "source": [
    "my_set = {1, \"String\", ('1', 'Tuple'), 1, 2}\n",
    "\n",
    "print(type(my_set))\n",
    "print(my_set)\n",
    "print(len(my_set))"
   ]
  },
  {
   "cell_type": "code",
   "execution_count": null,
   "id": "759f3f03-c8d1-4d84-a19e-b6a4e75bbd49",
   "metadata": {},
   "outputs": [],
   "source": [
    "print(my_set[0]) # unordered"
   ]
  },
  {
   "cell_type": "code",
   "execution_count": null,
   "id": "60af90b0-35dc-4782-8b62-4e948d917fa4",
   "metadata": {},
   "outputs": [],
   "source": [
    "my_set.add(2) # unique elements\n",
    "my_set"
   ]
  },
  {
   "cell_type": "code",
   "execution_count": null,
   "id": "bd305980-aecb-4927-826e-3c79113b25d5",
   "metadata": {},
   "outputs": [],
   "source": [
    "my_set.remove(2)\n",
    "my_set"
   ]
  },
  {
   "cell_type": "code",
   "execution_count": null,
   "id": "c9254f82-3fc1-4fd8-bd6c-062b43aa054c",
   "metadata": {},
   "outputs": [],
   "source": [
    "# Set operations\n",
    "set1 = {1,2,3,4,5}\n",
    "set2 = {4,5,6,7}\n",
    "\n",
    "print(\"intersection: \", set1.intersection(set2))\n",
    "print(\"union: \", set1.union(set2))\n",
    "print(\"set1 dif set2: \", set1.difference(set2))\n",
    "print(\"symmetric difference\", set1.symmetric_difference(set2))\n",
    "print(\"set2 dif set1: \", set2 - set1)"
   ]
  }
 ],
 "metadata": {
  "kernelspec": {
   "display_name": "Python 3.10.8 64-bit",
   "language": "python",
   "name": "python3"
  },
  "language_info": {
   "codemirror_mode": {
    "name": "ipython",
    "version": 3
   },
   "file_extension": ".py",
   "mimetype": "text/x-python",
   "name": "python",
   "nbconvert_exporter": "python",
   "pygments_lexer": "ipython3",
   "version": "3.10.8"
  },
  "vscode": {
   "interpreter": {
    "hash": "949777d72b0d2535278d3dc13498b2535136f6dfe0678499012e853ee9abcab1"
   }
  }
 },
 "nbformat": 4,
 "nbformat_minor": 5
}
